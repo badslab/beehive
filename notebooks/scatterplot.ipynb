{
 "cells": [
  {
   "cell_type": "code",
   "execution_count": 123,
   "metadata": {},
   "outputs": [],
   "source": [
    "import scanpy as sc\n",
    "import pandas as pd\n",
    "from bokeh.io import output_notebook\n",
    "from bokeh.plotting import figure, show\n",
    "from bokeh.models import ColumnDataSource, LinearColorMapper,ColorBar, LinearAxis, Range1d\n",
    "from bokeh.models.transforms import CustomJSTransform\n",
    "from bokeh.transform import factor_cmap, transform\n",
    "import sys\n",
    "sys.path.insert(0, '../beehive/')\n",
    "import numpy as np\n",
    "from beehive import config, util, expset\n",
    "from bokeh.palettes import Category20\n",
    "import polars as pl"
   ]
  },
  {
   "cell_type": "code",
   "execution_count": null,
   "metadata": {},
   "outputs": [],
   "source": [
    "output_notebook()"
   ]
  },
  {
   "cell_type": "code",
   "execution_count": 3,
   "metadata": {},
   "outputs": [],
   "source": [
    "dataset_id = 'h.man2m.1.sct'"
   ]
  },
  {
   "cell_type": "code",
   "execution_count": null,
   "metadata": {},
   "outputs": [],
   "source": [
    "expset.obslist(dataset_id)"
   ]
  },
  {
   "cell_type": "code",
   "execution_count": 210,
   "metadata": {},
   "outputs": [],
   "source": [
    "def get_data(dataset_id, gene1, gene2, obsfield):\n",
    "    rv = pd.DataFrame(dict(\n",
    "        x = expset.get_gene(dataset_id, gene1)[:,0],\n",
    "        y = expset.get_gene(dataset_id, gene2)[:,0],\n",
    "        obs = expset.get_meta(dataset_id, obsfield)[:,0],\n",
    "        ))\n",
    "    return rv\n",
    "    \n",
    "data = get_data(dataset_id, 'TREM2', 'APOE', 'injection')\n"
   ]
  },
  {
   "cell_type": "code",
   "execution_count": null,
   "metadata": {},
   "outputs": [],
   "source": [
    "p = figure()\n",
    "ages = list(data['obs'].unique())\n",
    "source = ColumnDataSource(data)\n",
    "p.scatter(x='x', y='y', source=source,  legend_field=\"obs\",\n",
    "          fill_alpha=0.2, size=3,\n",
    "         color=factor_cmap('obs', 'Category10_3', ages))\n",
    "show(p)"
   ]
  },
  {
   "cell_type": "code",
   "execution_count": null,
   "id": "56196da6",
   "metadata": {},
   "outputs": [],
   "source": [
    "\n",
    "datadir = util.get_datadir(\"h5ad\")\n",
    "dsid = \"m.how1m.1\"\n",
    "#print(expset.get_varfields(dsid))\n",
    "rv = pl.read_parquet(datadir / f\"{dsid}.var.prq\",[\"field\"]+[\"APOE\"])\n",
    "rv.to_pandas()"
   ]
  },
  {
   "cell_type": "code",
   "execution_count": 212,
   "id": "2392824e",
   "metadata": {},
   "outputs": [],
   "source": [
    "\n",
    "datadir = util.get_datadir(\"h5ad\")\n",
    "dsid = \"h.s423a.1\"\n",
    "varsfields = expset.get_varfields(dsid)\n",
    "categ = \"plaque_bin__all\"\n",
    "len(pl.read_parquet(datadir / f\"{dsid}.var.prq\").columns)\n",
    "rv1 = pl.read_parquet(datadir / f\"{dsid}.var.prq\",[\"plaque_bin__all__lfc\"])\n",
    "rv2 = pl.read_parquet(datadir / f\"{dsid}.var.prq\",[12])\n",
    "\n",
    "#rv\n",
    "# pl.concat([rv1,rv2],how=\"horizontal\")"
   ]
  },
  {
   "cell_type": "code",
   "execution_count": null,
   "id": "99a78167",
   "metadata": {},
   "outputs": [],
   "source": [
    "vars = expset.get_varfields(dsid)\n",
    "unique_vars = list(set([x.replace(\"__lfc\",\"\").replace(\"__padj\",\"\") for x in vars]))"
   ]
  },
  {
   "cell_type": "code",
   "execution_count": 11,
   "id": "2dfc1feb",
   "metadata": {},
   "outputs": [
    {
     "name": "stderr",
     "output_type": "stream",
     "text": [
      "/Library/Frameworks/Python.framework/Versions/3.8/lib/python3.8/site-packages/pandas/core/arraylike.py:397: RuntimeWarning: divide by zero encountered in log10\n",
      "  result = getattr(ufunc, method)(*inputs, **kwargs)\n"
     ]
    }
   ],
   "source": [
    "categ = \"ptau_bin__all\"\n",
    "dsid = \"h.s423a.1\"\n",
    "data = expset.get_dedata_new(dsid,categ)\n",
    "\n",
    "categ_x  = categ + \"__lfc\"\n",
    "categ_y = categ + \"__padj\"\n",
    "data[categ_y] = np.log10(data[categ_y]) * (-1)\n",
    "plot = figure()\n",
    "plot.scatter(x = categ_x, y = categ_y, source = ColumnDataSource(data))\n",
    "show(plot)"
   ]
  },
  {
   "cell_type": "code",
   "execution_count": null,
   "id": "1f418ceb",
   "metadata": {},
   "outputs": [],
   "source": [
    "data = pd.DataFrame(dict(\n",
    "        gene1 = expset.get_gene(dataset_id, \"APOE\")[:,0],\n",
    "        gene2 = expset.get_gene(dataset_id, \"TREM2\")[:,0],\n",
    "        obs = expset.get_meta(dataset_id, \"cell.state\")[:,0],\n",
    "        ))\n",
    "data"
   ]
  },
  {
   "cell_type": "code",
   "execution_count": null,
   "id": "5b8cd209",
   "metadata": {},
   "outputs": [],
   "source": [
    "unique_obs = expset.get_obsfields(dataset_id)"
   ]
  },
  {
   "cell_type": "code",
   "execution_count": null,
   "id": "251d246f",
   "metadata": {},
   "outputs": [],
   "source": [
    "expset.get_dataset(dsid)"
   ]
  },
  {
   "cell_type": "code",
   "execution_count": 91,
   "id": "0b8ff236",
   "metadata": {},
   "outputs": [],
   "source": [
    "datadir = util.get_datadir(\"h5ad\")\n",
    "dsid = \"h.s423a.1\"\n",
    "#print(expset.get_varfields(dsid))\n",
    "rv = pl.read_parquet(datadir / f\"{dsid}.var.prq\")\n",
    "\n"
   ]
  },
  {
   "cell_type": "code",
   "execution_count": 206,
   "id": "0fc05c00",
   "metadata": {},
   "outputs": [],
   "source": [
    "p = figure()\n",
    "dataset_id = \"h.man2m.1.sct\"\n",
    "data = pd.DataFrame(dict(\n",
    "        gene1 = expset.get_meta(dataset_id,'umap_1',raw=True)[:,0]\n",
    ",\n",
    "        gene2 = expset.get_meta(dataset_id,\"umap_2\",raw=True)[:,0]\n",
    ",\n",
    "        obs = expset.get_meta(dataset_id, \"cell.state\")[:,0],\n",
    "        ))\n",
    "        \n",
    "bins = hexbin(data[\"gene1\"], data[\"gene2\"], 0.1)\n",
    "source_bin = ColumnDataSource(data=dict(r=[], q=[], counts=[]))\n",
    "source_bin.data = dict(r=bins.r, q=bins.q, counts=bins.counts)\n",
    "\n",
    "v_func_alpha  = \"\"\"\n",
    "var new_xs = new Array(xs.length)\n",
    "for(var i = 0; i < xs.length; i++) {\n",
    "    new_xs[i] = alpha_map[xs[i]]\n",
    "}\n",
    "return new_xs\n",
    "\"\"\"\n",
    "length = len(sorted(source_bin.data[\"counts\"].unique().tolist()))\n",
    "alpha_map = dict(zip(sorted(source_bin.data[\"counts\"].unique().tolist()),[x/length for x in range(0,length)]))\n",
    "numerical_alpha_transformer = CustomJSTransform(args={\"alpha_map\": alpha_map}, v_func=v_func_alpha)\n",
    "\n",
    "\n",
    "#plot:\n",
    "t = p.hex_tile(q=\"q\",r=\"r\",size=0.1,source=source_bin,\n",
    "alpha = transform(\"counts\",numerical_alpha_transformer),line_color = None, color = \"black\")\n",
    "# p.scatter(x = \"gene1\",y=\"gene2\", source = ColumnDataSource(data),size = 0.5,alpha=0.1)\n",
    "show(p)\n"
   ]
  },
  {
   "cell_type": "code",
   "execution_count": 130,
   "id": "54733aed",
   "metadata": {},
   "outputs": [],
   "source": [
    "from bokeh.util.hex import cartesian_to_axial\n",
    "\n",
    "###get Data####\n",
    "data = pd.DataFrame(dict(\n",
    "        gene1 = expset.get_gene(dataset_id, \"APOE\")[:,0],\n",
    "        gene2 = expset.get_gene(dataset_id, \"TREM2\")[:,0],\n",
    "        obs = expset.get_meta(dataset_id, \"cell.state\")[:,0],\n",
    "        gene3 = expset.get_gene(dataset_id, \"APOC1\")[:,0],\n",
    "        ))\n",
    "\n",
    "#manipulate data to get axial coordinates\n",
    "q, r = cartesian_to_axial(data[\"gene1\"], data[\"gene2\"], 0.1, \"pointytop\")\n",
    "df = pd.DataFrame(dict(r=r,q=q,avg_exp = None))\n",
    "groups = df.groupby([\"q\",\"r\"])\n",
    "dicts = []\n",
    "###assign axial coordinates to get average gene expression###\n",
    "for key,val in groups.groups.items():\n",
    "    q,r = key\n",
    "    counts = len(val)\n",
    "    avg_exp = data['gene3'].loc[groups.groups.get((q,r))].mean()\n",
    "    dicts = dicts + [{\"q\" : q,\"r\" : r,\"counts\" : counts, \"avg_exp\" :avg_exp}]\n",
    "    \n",
    "\n",
    "##use in source\n",
    "final_result = pd.DataFrame(dicts)\n",
    "source_bin = ColumnDataSource(final_result)\n",
    "\n",
    "\n",
    "\n",
    "###mappers###\n",
    "mapper = LinearColorMapper(\n",
    "    palette='Magma256',\n",
    "    low=final_result[\"avg_exp\"].min(),\n",
    "    high=final_result[\"avg_exp\"].max())\n",
    "\n",
    "v_func_alpha  = \"\"\"\n",
    "var new_xs = new Array(xs.length)\n",
    "for(var i = 0; i < xs.length; i++) {\n",
    "    new_xs[i] = alpha_map[xs[i]]\n",
    "}\n",
    "return new_xs\n",
    "\"\"\"\n",
    "\n",
    "###plot###\n",
    "length = len(sorted(np.unique(source_bin.data[\"counts\"]).tolist()))\n",
    "alpha_map = dict(zip(sorted(np.unique(source_bin.data[\"counts\"]).tolist()),[x/length for x in range(0,length)]))\n",
    "\n",
    "numerical_alpha_transformer = CustomJSTransform(args={\"alpha_map\": alpha_map}, v_func=v_func_alpha)\n",
    "\n",
    "plot = figure()\n",
    "plot.hex_tile(q=\"q\",r=\"r\",size=0.1,source=source_bin,\n",
    "alpha = transform(\"counts\",numerical_alpha_transformer),line_color = None, \n",
    "color  = {'field': 'avg_exp', 'transform': mapper})\n",
    "plot.xaxis.axis_label = \"APOE\"\n",
    "plot.yaxis.axis_label = \"TREM2\"\n",
    "color_bar1 = ColorBar(color_mapper=mapper, location=(0,0),major_label_text_font_size = \"0px\",major_tick_in = 2,title = \"APOC1 average expression\")\n",
    "plot.add_layout(color_bar1,\"right\")\n",
    "plot.extra_y_ranges = {\"y2\": Range1d(start = final_result[\"counts\"].min(), end = final_result[\"counts\"].max())}\n",
    "extra_axis = LinearAxis(y_range_name = \"y2\",axis_label = \"Counts by Transparency per Hex tile\")\n",
    "plot.add_layout(extra_axis, 'right')\n",
    "\n",
    "show(plot)\n"
   ]
  }
 ],
 "metadata": {
  "interpreter": {
   "hash": "aee8b7b246df8f9039afb4144a1f6fd8d2ca17a180786b69acc140d282b71a49"
  },
  "kernelspec": {
   "display_name": "Python 3.8.1 64-bit",
   "language": "python",
   "name": "python3"
  },
  "language_info": {
   "codemirror_mode": {
    "name": "ipython",
    "version": 3
   },
   "file_extension": ".py",
   "mimetype": "text/x-python",
   "name": "python",
   "nbconvert_exporter": "python",
   "pygments_lexer": "ipython3",
   "version": "3.8.1"
  }
 },
 "nbformat": 4,
 "nbformat_minor": 5
}
