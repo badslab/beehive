{
 "cells": [
  {
   "cell_type": "code",
   "execution_count": 1,
   "metadata": {},
   "outputs": [
    {
     "name": "stdout",
     "output_type": "stream",
     "text": [
      "hi\n"
     ]
    }
   ],
   "source": [
    "from pprint import pprint\n",
    "import warnings\n",
    "\n",
    "import numpy as np\n",
    "import pandas as pd\n",
    "import scanpy as sc\n",
    "\n",
    "warnings.simplefilter(\"ignore\", UserWarning)\n",
    "warnings.simplefilter(\"ignore\", FutureWarning)\n",
    "\n",
    "#metadata related functions are in cellhive.md\n",
    "import cellhive.md as ch\n",
    "\n",
    "# or - for development:\n",
    "# %reload_ext autoreload\n",
    "# %autoreload 2\n",
    "# %aimport cellhive\n",
    "# ch = cellhive"
   ]
  },
  {
   "cell_type": "code",
   "execution_count": 2,
   "metadata": {},
   "outputs": [
    {
     "data": {
      "text/plain": [
       "'Using cellhive version: 0.1.1'"
      ]
     },
     "execution_count": 2,
     "metadata": {},
     "output_type": "execute_result"
    }
   ],
   "source": [
    "f\"Using cellhive version: {ch.__version__}\""
   ]
  },
  {
   "cell_type": "markdown",
   "metadata": {},
   "source": [
    "### Load an h5ad file"
   ]
  },
  {
   "cell_type": "code",
   "execution_count": 3,
   "metadata": {},
   "outputs": [],
   "source": [
    "# using the demonstration pbmc file\n",
    "raw = sc.datasets.pbmc3k()\n",
    "\n",
    "adata = sc.datasets.pbmc3k_processed()\n",
    "adata.layers['counts'] = raw[adata.obs_names, adata.var_names].X.copy()"
   ]
  },
  {
   "cell_type": "markdown",
   "metadata": {},
   "source": [
    "## Cellhive annotation demonstration\n",
    "\n",
    "We use cellhive to add structured metadata to an adata file.\n",
    "\n",
    "First, experimental metadata. Although this is free form key/value, I suggest the following fields.\n",
    "\n",
    "- **author**\n",
    "- **title**: Short title\n",
    "- **organism**: human, mouse, etc.\n",
    "- **year**: (integer) - the year of the study.\n",
    "- **url**: URL source of this dataset\n",
    "- **description**: Long form description of this dataset.\n",
    "- **version**: (string) - the version number of this dataset - if it needs to be updated - approximately following semantic versioning.\n",
    "- **study**: short identifier for the overarching study - this is to group a number of experiments together.\n",
    "- **experiment**: Short unique identifier to identify this dataset. Note - different versions of a dataset should have a different experiment identifier.\n",
    "- **pubmed**: Pubmed id for a paper. Note - if you specifiy just the pubmed id, author, abstract, year and title will be downloaded from the internet.\n"
   ]
  },
  {
   "cell_type": "code",
   "execution_count": 4,
   "metadata": {},
   "outputs": [
    {
     "data": {
      "text/plain": [
       "{'author': '10x',\n",
       " 'title': '3k PBMCs from a Healthy Donor',\n",
       " 'year': 2016,\n",
       " 'organism': 'human',\n",
       " 'study': 'cellhive_demo',\n",
       " 'url': 'https://support.10xgenomics.com/single-cell-gene-expression/datasets/1.1.0/pbmc3k?',\n",
       " 'experiment': 'pbmc',\n",
       " 'version': '1.0'}"
      ]
     },
     "execution_count": 4,
     "metadata": {},
     "output_type": "execute_result"
    }
   ],
   "source": [
    "ch.md(adata,\n",
    "      author='10x',\n",
    "      title='3k PBMCs from a Healthy Donor',\n",
    "      year=2016,\n",
    "      organism='human',\n",
    "      study='cellhive_demo',\n",
    "      url='https://support.10xgenomics.com/single-cell-gene-expression/datasets/1.1.0/pbmc3k?',\n",
    "      experiment='pbmc',\n",
    "      version='1.0'\n",
    "      )"
   ]
  },
  {
   "cell_type": "markdown",
   "metadata": {},
   "source": [
    "### Layer annotation\n",
    "\n",
    "Add some metadata to they layers.\n",
    "\n",
    "By running `ch.layers(adata)` without any further arguments you get an overview of the layers (including the main `.X` in this adata object). Cellhive will try to assign layer types. It recognizes the following layer types (although the field is freeform):\n",
    "\n",
    "- **count**: for raw counts (integer)\n",
    "- **rpm**: reads per million - library size normalized counts\n",
    "- **logrpm**: library size normalized, and converted to log space\n",
    "- **cell_abundance**: For cell abundance analysis."
   ]
  },
  {
   "cell_type": "code",
   "execution_count": 5,
   "metadata": {},
   "outputs": [
    {
     "name": "stderr",
     "output_type": "stream",
     "text": [
      "WARNING cellhive.metadata_tools:177 - Setting layer X to type: logrpm! [23:36:33] \n"
     ]
    },
    {
     "name": "stdout",
     "output_type": "stream",
     "text": [
      "False 10.0\n",
      "True 190.0\n"
     ]
    },
    {
     "data": {
      "text/html": [
       "<div>\n",
       "<style scoped>\n",
       "    .dataframe tbody tr th:only-of-type {\n",
       "        vertical-align: middle;\n",
       "    }\n",
       "\n",
       "    .dataframe tbody tr th {\n",
       "        vertical-align: top;\n",
       "    }\n",
       "\n",
       "    .dataframe thead th {\n",
       "        text-align: right;\n",
       "    }\n",
       "</style>\n",
       "<table border=\"1\" class=\"dataframe\">\n",
       "  <thead>\n",
       "    <tr style=\"text-align: right;\">\n",
       "      <th></th>\n",
       "      <th>0</th>\n",
       "      <th>1</th>\n",
       "    </tr>\n",
       "  </thead>\n",
       "  <tbody>\n",
       "    <tr>\n",
       "      <th>name</th>\n",
       "      <td>X</td>\n",
       "      <td>counts</td>\n",
       "    </tr>\n",
       "    <tr>\n",
       "      <th>dtype</th>\n",
       "      <td>float32</td>\n",
       "      <td>float32</td>\n",
       "    </tr>\n",
       "    <tr>\n",
       "      <th>rows</th>\n",
       "      <td>2638</td>\n",
       "      <td>2638</td>\n",
       "    </tr>\n",
       "    <tr>\n",
       "      <th>columns</th>\n",
       "      <td>1838</td>\n",
       "      <td>1838</td>\n",
       "    </tr>\n",
       "    <tr>\n",
       "      <th>entries</th>\n",
       "      <td>4848644</td>\n",
       "      <td>4848644</td>\n",
       "    </tr>\n",
       "    <tr>\n",
       "      <th>min</th>\n",
       "      <td>-2.849105</td>\n",
       "      <td>0.0</td>\n",
       "    </tr>\n",
       "    <tr>\n",
       "      <th>max</th>\n",
       "      <td>10.0</td>\n",
       "      <td>190.0</td>\n",
       "    </tr>\n",
       "    <tr>\n",
       "      <th>no_zeros</th>\n",
       "      <td>0</td>\n",
       "      <td>4439901</td>\n",
       "    </tr>\n",
       "    <tr>\n",
       "      <th>% zeros</th>\n",
       "      <td>0.0</td>\n",
       "      <td>91.569952</td>\n",
       "    </tr>\n",
       "    <tr>\n",
       "      <th>ignore?</th>\n",
       "      <td>-</td>\n",
       "      <td>-</td>\n",
       "    </tr>\n",
       "    <tr>\n",
       "      <th>description</th>\n",
       "      <td>-</td>\n",
       "      <td>-</td>\n",
       "    </tr>\n",
       "    <tr>\n",
       "      <th>data type</th>\n",
       "      <td>logrpm</td>\n",
       "      <td>-</td>\n",
       "    </tr>\n",
       "  </tbody>\n",
       "</table>\n",
       "</div>"
      ],
      "text/plain": [
       "                    0          1\n",
       "name                X     counts\n",
       "dtype         float32    float32\n",
       "rows             2638       2638\n",
       "columns          1838       1838\n",
       "entries       4848644    4848644\n",
       "min         -2.849105        0.0\n",
       "max              10.0      190.0\n",
       "no_zeros            0    4439901\n",
       "% zeros           0.0  91.569952\n",
       "ignore?             -          -\n",
       "description         -          -\n",
       "data type      logrpm          -"
      ]
     },
     "execution_count": 5,
     "metadata": {},
     "output_type": "execute_result"
    }
   ],
   "source": [
    "ch.layers(adata)"
   ]
  },
  {
   "cell_type": "markdown",
   "metadata": {},
   "source": [
    "it is possible to force layer types and/or description using the same function. The function recognizes the following arguments:\n",
    "\n",
    "- **ltype**: Layer type (see above)\n",
    "- **description**: longer description of what this layer is\n",
    "- **ignore**: (boolean) - specify if this layer is to be ignored for database import."
   ]
  },
  {
   "cell_type": "code",
   "execution_count": 6,
   "metadata": {},
   "outputs": [
    {
     "data": {
      "text/html": [
       "<div>\n",
       "<style scoped>\n",
       "    .dataframe tbody tr th:only-of-type {\n",
       "        vertical-align: middle;\n",
       "    }\n",
       "\n",
       "    .dataframe tbody tr th {\n",
       "        vertical-align: top;\n",
       "    }\n",
       "\n",
       "    .dataframe thead th {\n",
       "        text-align: right;\n",
       "    }\n",
       "</style>\n",
       "<table border=\"1\" class=\"dataframe\">\n",
       "  <thead>\n",
       "    <tr style=\"text-align: right;\">\n",
       "      <th></th>\n",
       "      <th>0</th>\n",
       "      <th>1</th>\n",
       "    </tr>\n",
       "  </thead>\n",
       "  <tbody>\n",
       "    <tr>\n",
       "      <th>name</th>\n",
       "      <td>X</td>\n",
       "      <td>counts</td>\n",
       "    </tr>\n",
       "    <tr>\n",
       "      <th>dtype</th>\n",
       "      <td>float32</td>\n",
       "      <td>float32</td>\n",
       "    </tr>\n",
       "    <tr>\n",
       "      <th>rows</th>\n",
       "      <td>2638</td>\n",
       "      <td>2638</td>\n",
       "    </tr>\n",
       "    <tr>\n",
       "      <th>columns</th>\n",
       "      <td>1838</td>\n",
       "      <td>1838</td>\n",
       "    </tr>\n",
       "    <tr>\n",
       "      <th>entries</th>\n",
       "      <td>4848644</td>\n",
       "      <td>4848644</td>\n",
       "    </tr>\n",
       "    <tr>\n",
       "      <th>min</th>\n",
       "      <td>-2.849105</td>\n",
       "      <td>0.0</td>\n",
       "    </tr>\n",
       "    <tr>\n",
       "      <th>max</th>\n",
       "      <td>10.0</td>\n",
       "      <td>190.0</td>\n",
       "    </tr>\n",
       "    <tr>\n",
       "      <th>no_zeros</th>\n",
       "      <td>0</td>\n",
       "      <td>4439901</td>\n",
       "    </tr>\n",
       "    <tr>\n",
       "      <th>% zeros</th>\n",
       "      <td>0.0</td>\n",
       "      <td>91.569952</td>\n",
       "    </tr>\n",
       "    <tr>\n",
       "      <th>ignore?</th>\n",
       "      <td>-</td>\n",
       "      <td>-</td>\n",
       "    </tr>\n",
       "    <tr>\n",
       "      <th>description</th>\n",
       "      <td>-</td>\n",
       "      <td>Raw counts</td>\n",
       "    </tr>\n",
       "    <tr>\n",
       "      <th>data type</th>\n",
       "      <td>logrpm</td>\n",
       "      <td>count</td>\n",
       "    </tr>\n",
       "  </tbody>\n",
       "</table>\n",
       "</div>"
      ],
      "text/plain": [
       "                    0           1\n",
       "name                X      counts\n",
       "dtype         float32     float32\n",
       "rows             2638        2638\n",
       "columns          1838        1838\n",
       "entries       4848644     4848644\n",
       "min         -2.849105         0.0\n",
       "max              10.0       190.0\n",
       "no_zeros            0     4439901\n",
       "% zeros           0.0   91.569952\n",
       "ignore?             -           -\n",
       "description         -  Raw counts\n",
       "data type      logrpm       count"
      ]
     },
     "execution_count": 6,
     "metadata": {},
     "output_type": "execute_result"
    }
   ],
   "source": [
    "ch.layers(adata, 'counts', ltype='count', description='Raw counts')"
   ]
  },
  {
   "cell_type": "markdown",
   "metadata": {},
   "source": [
    "## Dim. Reduction annotation (`obsm`)\n",
    "\n",
    "Cellhive can annotate the dimensionality reduction data using the `ch.obsm` function with the following arguments:\n",
    "\n",
    "- **description**: longer description of what this layer is\n",
    "- **ignore**: (boolean) - specify if this dim.red. is to be ignored for database import.\n",
    "\n",
    "without any extra arguments the function prints information on the obsm data."
   ]
  },
  {
   "cell_type": "code",
   "execution_count": 7,
   "metadata": {},
   "outputs": [
    {
     "data": {
      "text/html": [
       "<div>\n",
       "<style scoped>\n",
       "    .dataframe tbody tr th:only-of-type {\n",
       "        vertical-align: middle;\n",
       "    }\n",
       "\n",
       "    .dataframe tbody tr th {\n",
       "        vertical-align: top;\n",
       "    }\n",
       "\n",
       "    .dataframe thead th {\n",
       "        text-align: right;\n",
       "    }\n",
       "</style>\n",
       "<table border=\"1\" class=\"dataframe\">\n",
       "  <thead>\n",
       "    <tr style=\"text-align: right;\">\n",
       "      <th>name</th>\n",
       "      <th>X_pca</th>\n",
       "      <th>X_tsne</th>\n",
       "      <th>X_umap</th>\n",
       "      <th>X_draw_graph_fr</th>\n",
       "    </tr>\n",
       "  </thead>\n",
       "  <tbody>\n",
       "    <tr>\n",
       "      <th>dim</th>\n",
       "      <td>50</td>\n",
       "      <td>2</td>\n",
       "      <td>2</td>\n",
       "      <td>2</td>\n",
       "    </tr>\n",
       "    <tr>\n",
       "      <th>ignore</th>\n",
       "      <td>-</td>\n",
       "      <td>-</td>\n",
       "      <td>-</td>\n",
       "      <td>-</td>\n",
       "    </tr>\n",
       "    <tr>\n",
       "      <th>description</th>\n",
       "      <td>-</td>\n",
       "      <td>-</td>\n",
       "      <td>-</td>\n",
       "      <td>-</td>\n",
       "    </tr>\n",
       "  </tbody>\n",
       "</table>\n",
       "</div>"
      ],
      "text/plain": [
       "name        X_pca X_tsne X_umap X_draw_graph_fr\n",
       "dim            50      2      2               2\n",
       "ignore          -      -      -               -\n",
       "description     -      -      -               -"
      ]
     },
     "execution_count": 7,
     "metadata": {},
     "output_type": "execute_result"
    }
   ],
   "source": [
    "ch.obsm(adata)"
   ]
  },
  {
   "cell_type": "code",
   "execution_count": 10,
   "metadata": {},
   "outputs": [
    {
     "data": {
      "text/html": [
       "<div>\n",
       "<style scoped>\n",
       "    .dataframe tbody tr th:only-of-type {\n",
       "        vertical-align: middle;\n",
       "    }\n",
       "\n",
       "    .dataframe tbody tr th {\n",
       "        vertical-align: top;\n",
       "    }\n",
       "\n",
       "    .dataframe thead th {\n",
       "        text-align: right;\n",
       "    }\n",
       "</style>\n",
       "<table border=\"1\" class=\"dataframe\">\n",
       "  <thead>\n",
       "    <tr style=\"text-align: right;\">\n",
       "      <th>name</th>\n",
       "      <th>X_pca</th>\n",
       "      <th>X_tsne</th>\n",
       "      <th>X_umap</th>\n",
       "      <th>X_draw_graph_fr</th>\n",
       "    </tr>\n",
       "  </thead>\n",
       "  <tbody>\n",
       "    <tr>\n",
       "      <th>dim</th>\n",
       "      <td>50</td>\n",
       "      <td>2</td>\n",
       "      <td>2</td>\n",
       "      <td>2</td>\n",
       "    </tr>\n",
       "    <tr>\n",
       "      <th>ignore</th>\n",
       "      <td>-</td>\n",
       "      <td>-</td>\n",
       "      <td>-</td>\n",
       "      <td>True</td>\n",
       "    </tr>\n",
       "    <tr>\n",
       "      <th>description</th>\n",
       "      <td>-</td>\n",
       "      <td>-</td>\n",
       "      <td>-</td>\n",
       "      <td>-</td>\n",
       "    </tr>\n",
       "  </tbody>\n",
       "</table>\n",
       "</div>"
      ],
      "text/plain": [
       "name        X_pca X_tsne X_umap X_draw_graph_fr\n",
       "dim            50      2      2               2\n",
       "ignore          -      -      -            True\n",
       "description     -      -      -               -"
      ]
     },
     "execution_count": 10,
     "metadata": {},
     "output_type": "execute_result"
    }
   ],
   "source": [
    "ch.obsm(adata, 'X_draw_graph_fr', ignore=True)"
   ]
  },
  {
   "cell_type": "markdown",
   "metadata": {},
   "source": [
    "## Cell annotation (`obs` table)\n",
    "\n",
    "In the same vein as above the cell metadata is annotated using the `ch.obs`. \n",
    "\n",
    "Output shows data type, the number of unique entries, and as an example three unique entries from that field.\n",
    "\n",
    "- **dtype**: force datatype\n",
    "- **description**: longer description of what this layer is\n",
    "- **ignore**: (boolean) - specify if this obs column is to be ignored for database import."
   ]
  },
  {
   "cell_type": "code",
   "execution_count": 11,
   "metadata": {},
   "outputs": [
    {
     "name": "stderr",
     "output_type": "stream",
     "text": [
      "INFO cellhive.metadata:416 - Convert obs column n_genes to int [09:05:06] \n"
     ]
    },
    {
     "data": {
      "text/html": [
       "<div>\n",
       "<style scoped>\n",
       "    .dataframe tbody tr th:only-of-type {\n",
       "        vertical-align: middle;\n",
       "    }\n",
       "\n",
       "    .dataframe tbody tr th {\n",
       "        vertical-align: top;\n",
       "    }\n",
       "\n",
       "    .dataframe thead th {\n",
       "        text-align: right;\n",
       "    }\n",
       "</style>\n",
       "<table border=\"1\" class=\"dataframe\">\n",
       "  <thead>\n",
       "    <tr style=\"text-align: right;\">\n",
       "      <th></th>\n",
       "      <th>name</th>\n",
       "      <th>dtype</th>\n",
       "      <th>no_uniq</th>\n",
       "      <th>example</th>\n",
       "      <th>description</th>\n",
       "      <th>ignore</th>\n",
       "    </tr>\n",
       "  </thead>\n",
       "  <tbody>\n",
       "    <tr>\n",
       "      <th>0</th>\n",
       "      <td>n_genes</td>\n",
       "      <td>int</td>\n",
       "      <td>935</td>\n",
       "      <td>781, 1352, 1131</td>\n",
       "      <td>-</td>\n",
       "      <td>-</td>\n",
       "    </tr>\n",
       "    <tr>\n",
       "      <th>1</th>\n",
       "      <td>percent_mito</td>\n",
       "      <td>float</td>\n",
       "      <td>2540</td>\n",
       "      <td>0.0302, 0.0379, 0.0089</td>\n",
       "      <td>-</td>\n",
       "      <td>-</td>\n",
       "    </tr>\n",
       "    <tr>\n",
       "      <th>2</th>\n",
       "      <td>n_counts</td>\n",
       "      <td>float</td>\n",
       "      <td>1736</td>\n",
       "      <td>2.42e+03, 4.9e+03, 3.15e+03</td>\n",
       "      <td>-</td>\n",
       "      <td>-</td>\n",
       "    </tr>\n",
       "    <tr>\n",
       "      <th>3</th>\n",
       "      <td>louvain</td>\n",
       "      <td>cat</td>\n",
       "      <td>8</td>\n",
       "      <td>Megakaryocytes, Dendritic cells, FCGR3A+ Monoc...</td>\n",
       "      <td>Louvain clustered cells</td>\n",
       "      <td>-</td>\n",
       "    </tr>\n",
       "  </tbody>\n",
       "</table>\n",
       "</div>"
      ],
      "text/plain": [
       "           name  dtype no_uniq  \\\n",
       "0       n_genes    int     935   \n",
       "1  percent_mito  float    2540   \n",
       "2      n_counts  float    1736   \n",
       "3       louvain    cat       8   \n",
       "\n",
       "                                             example              description  \\\n",
       "0                                    781, 1352, 1131                        -   \n",
       "1                             0.0302, 0.0379, 0.0089                        -   \n",
       "2                        2.42e+03, 4.9e+03, 3.15e+03                        -   \n",
       "3  Megakaryocytes, Dendritic cells, FCGR3A+ Monoc...  Louvain clustered cells   \n",
       "\n",
       "  ignore  \n",
       "0      -  \n",
       "1      -  \n",
       "2      -  \n",
       "3      -  "
      ]
     },
     "execution_count": 11,
     "metadata": {},
     "output_type": "execute_result"
    }
   ],
   "source": [
    "ch.obs(adata, 'louvain', description='Louvain clustered cells')\n",
    "ch.obs(adata, 'n_genes', dtype='int')   # superfluous!\n",
    "ch.obs(adata)"
   ]
  },
  {
   "cell_type": "markdown",
   "metadata": {},
   "source": [
    "## Check \n",
    "\n",
    "To check if all required fields are present:"
   ]
  },
  {
   "cell_type": "code",
   "execution_count": 12,
   "metadata": {},
   "outputs": [
    {
     "name": "stdout",
     "output_type": "stream",
     "text": [
      "All seems fine\n"
     ]
    }
   ],
   "source": [
    "ch.check(adata)"
   ]
  },
  {
   "cell_type": "markdown",
   "metadata": {},
   "source": [
    "## metadata storage\n",
    "\n",
    "All metadata is stored in `adata.uns['cellhive']`:"
   ]
  },
  {
   "cell_type": "code",
   "execution_count": 13,
   "metadata": {},
   "outputs": [
    {
     "name": "stdout",
     "output_type": "stream",
     "text": [
      "{'layers': {'X': {'type': 'logrpm'},\n",
      "            'counts': {'description': 'Raw counts', 'type': 'count'}},\n",
      " 'metadata': {'author': '10x',\n",
      "              'experiment': 'pbmc',\n",
      "              'organism': 'human',\n",
      "              'study': 'cellhive_demo',\n",
      "              'title': '3k PBMCs from a Healthy Donor',\n",
      "              'url': 'https://support.10xgenomics.com/single-cell-gene-expression/datasets/1.1.0/pbmc3k?',\n",
      "              'version': '1.0',\n",
      "              'year': 2016},\n",
      " 'obs': {'louvain': {'description': 'Louvain clustered cells'},\n",
      "         'n_genes': {'dtype': 'int'}},\n",
      " 'obsm': {'X_draw_graph_fr': {'ignore': True}}}\n"
     ]
    }
   ],
   "source": [
    "pprint(adata.uns['cellhive'])"
   ]
  },
  {
   "cell_type": "markdown",
   "metadata": {},
   "source": [
    "## Save\n",
    "\n",
    "Saving the h5ad file like normal stores the metadata as well:"
   ]
  },
  {
   "cell_type": "code",
   "execution_count": 14,
   "metadata": {},
   "outputs": [],
   "source": [
    "adata.write_h5ad('pbmc.annotated.h5ad')"
   ]
  },
  {
   "cell_type": "code",
   "execution_count": null,
   "metadata": {},
   "outputs": [],
   "source": []
  }
 ],
 "metadata": {
  "kernelspec": {
   "display_name": "termite",
   "language": "python",
   "name": "python3"
  },
  "language_info": {
   "codemirror_mode": {
    "name": "ipython",
    "version": 3
   },
   "file_extension": ".py",
   "mimetype": "text/x-python",
   "name": "python",
   "nbconvert_exporter": "python",
   "pygments_lexer": "ipython3",
   "version": "3.11.4"
  }
 },
 "nbformat": 4,
 "nbformat_minor": 2
}
